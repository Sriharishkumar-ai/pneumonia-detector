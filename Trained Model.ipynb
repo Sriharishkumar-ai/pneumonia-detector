{
  "nbformat": 4,
  "nbformat_minor": 0,
  "metadata": {
    "colab": {
      "provenance": [],
      "gpuType": "T4"
    },
    "kernelspec": {
      "name": "python3",
      "display_name": "Python 3"
    },
    "language_info": {
      "name": "python"
    },
    "accelerator": "GPU"
  },
  "cells": [
    {
      "cell_type": "markdown",
      "source": [
        "Mount Google Drive & Set Paths"
      ],
      "metadata": {
        "id": "6Y9rq14UWoxl"
      }
    },
    {
      "cell_type": "code",
      "execution_count": 1,
      "metadata": {
        "colab": {
          "base_uri": "https://localhost:8080/"
        },
        "id": "7arZdRRd_S7M",
        "outputId": "2ea678eb-f673-4946-860c-8b18f776e530"
      },
      "outputs": [
        {
          "output_type": "stream",
          "name": "stdout",
          "text": [
            "Mounted at /content/drive\n"
          ]
        }
      ],
      "source": [
        "from google.colab import drive\n",
        "drive.mount('/content/drive')\n",
        "\n",
        "# Define your dataset path\n",
        "data_dir = \"/content/drive/MyDrive/Medical/chest_xray\"\n"
      ]
    },
    {
      "cell_type": "markdown",
      "source": [
        "Display a Sample Image"
      ],
      "metadata": {
        "id": "rfr_ExUpWDLh"
      }
    },
    {
      "cell_type": "code",
      "source": [
        "import cv2\n",
        "import matplotlib.pyplot as plt\n",
        "import os\n",
        "\n",
        "sample_path = os.path.join(data_dir, \"train/PNEUMONIA/person1_bacteria_1.jpeg\")\n",
        "image = cv2.imread(sample_path, cv2.IMREAD_GRAYSCALE)\n",
        "\n",
        "plt.imshow(image, cmap='gray')\n",
        "plt.title(\"Sample X-Ray Image\")\n",
        "plt.axis('off')\n",
        "plt.show()\n"
      ],
      "metadata": {
        "id": "c1ha-BqLW0gH"
      },
      "execution_count": null,
      "outputs": []
    },
    {
      "cell_type": "markdown",
      "source": [
        "Preprocess with ImageDataGenerator"
      ],
      "metadata": {
        "id": "D_OTyW76W5at"
      }
    },
    {
      "cell_type": "code",
      "source": [
        "from tensorflow.keras.preprocessing.image import ImageDataGenerator\n",
        "\n",
        "datagen = ImageDataGenerator(\n",
        "    rescale=1./255,\n",
        "    rotation_range=10,\n",
        "    width_shift_range=0.1,\n",
        "    height_shift_range=0.1,\n",
        "    shear_range=0.1,\n",
        "    zoom_range=0.1,\n",
        "    horizontal_flip=True\n",
        ")\n",
        "\n",
        "train_data = datagen.flow_from_directory(\n",
        "    os.path.join(data_dir, \"train\"),\n",
        "    target_size=(256, 256),\n",
        "    color_mode='grayscale',\n",
        "    batch_size=32,\n",
        "    class_mode='binary'\n",
        ")\n",
        "\n",
        "val_data = datagen.flow_from_directory(\n",
        "    os.path.join(data_dir, \"val\"),\n",
        "    target_size=(256, 256),\n",
        "    color_mode='grayscale',\n",
        "    batch_size=32,\n",
        "    class_mode='binary'\n",
        ")\n",
        "\n",
        "test_data = datagen.flow_from_directory(\n",
        "    os.path.join(data_dir, \"test\"),\n",
        "    target_size=(256, 256),\n",
        "    color_mode='grayscale',\n",
        "    batch_size=32,\n",
        "    class_mode='binary',\n",
        "    shuffle=False\n",
        ")\n"
      ],
      "metadata": {
        "id": "EYwe9pYGW9-h"
      },
      "execution_count": null,
      "outputs": []
    },
    {
      "cell_type": "markdown",
      "source": [
        "Build and Train CNN Model"
      ],
      "metadata": {
        "id": "VSfbMX82XJ95"
      }
    },
    {
      "cell_type": "code",
      "source": [
        "from tensorflow.keras.models import Sequential\n",
        "from tensorflow.keras.layers import Conv2D, MaxPooling2D, Flatten, Dense, Dropout\n",
        "\n",
        "model = Sequential([\n",
        "    Conv2D(32, (3,3), activation='relu', input_shape=(256, 256, 1)),\n",
        "    MaxPooling2D(2, 2),\n",
        "    Conv2D(64, (3,3), activation='relu'),\n",
        "    MaxPooling2D(2, 2),\n",
        "    Flatten(),\n",
        "    Dense(128, activation='relu'),\n",
        "    Dropout(0.5),\n",
        "    Dense(1, activation='sigmoid')\n",
        "])\n",
        "\n",
        "model.compile(optimizer='adam', loss='binary_crossentropy', metrics=['accuracy'])\n",
        "\n",
        "model.fit(train_data, epochs=10, validation_data=val_data)\n"
      ],
      "metadata": {
        "id": "r20NW8HDXLdK"
      },
      "execution_count": null,
      "outputs": []
    },
    {
      "cell_type": "markdown",
      "source": [
        "Evaluate Model Accuracy"
      ],
      "metadata": {
        "id": "7PMLuGebXQbA"
      }
    },
    {
      "cell_type": "code",
      "source": [
        "import numpy as np\n",
        "from sklearn.metrics import accuracy_score, confusion_matrix\n",
        "\n",
        "y_true = test_data.classes\n",
        "y_pred = model.predict(test_data)\n",
        "y_pred = np.round(y_pred).flatten()\n",
        "\n",
        "acc = accuracy_score(y_true, y_pred)\n",
        "cm = confusion_matrix(y_true, y_pred)\n",
        "\n",
        "print(f\"Model Accuracy: {acc * 100:.2f}%\")\n",
        "print(\"Confusion Matrix:\\n\", cm)\n"
      ],
      "metadata": {
        "id": "njV9C-VIXUkC"
      },
      "execution_count": null,
      "outputs": []
    },
    {
      "cell_type": "markdown",
      "source": [
        "Save the Trained Model"
      ],
      "metadata": {
        "id": "17CgkfrRXnMi"
      }
    },
    {
      "cell_type": "code",
      "source": [
        "model.save(\"medical_ai_model.h5\")\n",
        "\n",
        "# Optional: Save it to Google Drive\n",
        "!cp medical_ai_model.h5 /content/drive/MyDrive/Medical/\n"
      ],
      "metadata": {
        "id": "e6CBDZSPXkQx"
      },
      "execution_count": null,
      "outputs": []
    }
  ]
}